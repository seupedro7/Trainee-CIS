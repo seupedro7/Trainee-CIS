{
  "nbformat": 4,
  "nbformat_minor": 0,
  "metadata": {
    "colab": {
      "name": "NLP.ipynb",
      "provenance": [],
      "collapsed_sections": []
    },
    "kernelspec": {
      "name": "python3",
      "display_name": "Python 3"
    },
    "language_info": {
      "name": "python"
    }
  },
  "cells": [
    {
      "cell_type": "code",
      "execution_count": null,
      "metadata": {
        "id": "0lnIYWd4JUg2"
      },
      "outputs": [],
      "source": [
        "import os\n",
        "os.environ['TF_CPP_MIN_LOG_LEVEL']='2'"
      ]
    },
    {
      "cell_type": "code",
      "source": [
        "\n",
        "\n",
        "from tensorflow.keras import layers\n",
        "\n",
        "import matplotlib.pyplot as plt\n",
        "import pandas as pd\n",
        "import spacy\n",
        "import seaborn as sns\n",
        "import re\n",
        "from sklearn.feature_extraction.text import CountVectorizer\n",
        "from sklearn.feature_extraction.text import TfidfTransformer,TfidfVectorizer\n",
        "from sklearn.model_selection import train_test_split, StratifiedKFold, cross_val_score\n",
        "from sklearn.metrics import classification_report\n",
        "from sklearn import model_selection, naive_bayes, svm\n",
        "from sklearn.preprocessing import OneHotEncoder\n",
        "import numpy as np\n",
        "\n",
        "\n",
        "import tensorflow as tf\n",
        "from tensorflow import keras\n",
        "\n",
        "from tensorflow.keras.preprocessing.text import Tokenizer\n",
        "from tensorflow.keras.preprocessing.sequence import pad_sequences\n",
        "\n",
        "from tensorflow.keras.optimizers import Adam\n",
        "from tensorflow.keras.models import Sequential\n",
        "from tensorflow.keras.layers import Embedding, LSTM, Dense, Bidirectional, Conv1D, Dropout, MaxPooling1D, GlobalMaxPooling1D, BatchNormalization\n",
        "\n",
        "from google.colab import drive\n",
        "drive.mount('/content/drive')\n",
        "import cv2\n",
        "from google.colab.patches import cv2_imshow"
      ],
      "metadata": {
        "colab": {
          "base_uri": "https://localhost:8080/"
        },
        "id": "GALSOcmuK-0J",
        "outputId": "bf1a3e7d-8bd2-4e72-9a63-5f505c159b92"
      },
      "execution_count": null,
      "outputs": [
        {
          "output_type": "stream",
          "name": "stdout",
          "text": [
            "Drive already mounted at /content/drive; to attempt to forcibly remount, call drive.mount(\"/content/drive\", force_remount=True).\n"
          ]
        }
      ]
    },
    {
      "cell_type": "code",
      "source": [
        "#vizualização do Dataset\n",
        "\n",
        "DrivePath = '/content/drive/My Drive/CIS/Trainee/part6/Musical_instruments_reviews.csv'\n",
        "\n",
        "MI=pd.read_csv(DrivePath)\n",
        "\n",
        "MI=MI.dropna()\n",
        "MI=MI.reset_index()\n",
        "MI"
      ],
      "metadata": {
        "colab": {
          "base_uri": "https://localhost:8080/",
          "height": 641
        },
        "id": "-TWJtqMKNRdN",
        "outputId": "59759b02-2f1f-466f-bfc2-6abc3e1845b3"
      },
      "execution_count": null,
      "outputs": [
        {
          "output_type": "execute_result",
          "data": {
            "text/plain": [
              "       index      reviewerID        asin  \\\n",
              "0          0  A2IBPI20UZIR0U  1384719342   \n",
              "1          1  A14VAT5EAX3D9S  1384719342   \n",
              "2          2  A195EZSQDW3E21  1384719342   \n",
              "3          3  A2C00NNG1ZQQG2  1384719342   \n",
              "4          4   A94QU4C90B1AX  1384719342   \n",
              "...      ...             ...         ...   \n",
              "10222  10256  A14B2YH83ZXMPP  B00JBIVXGC   \n",
              "10223  10257   A1RPTVW5VEOSI  B00JBIVXGC   \n",
              "10224  10258   AWCJ12KBO5VII  B00JBIVXGC   \n",
              "10225  10259  A2Z7S8B5U4PAKJ  B00JBIVXGC   \n",
              "10226  10260  A2WA8TDCTGUADI  B00JBIVXGC   \n",
              "\n",
              "                                           reviewerName   helpful  \\\n",
              "0      cassandra tu \"Yeah, well, that's just like, u...    [0, 0]   \n",
              "1                                                  Jake  [13, 14]   \n",
              "2                         Rick Bennette \"Rick Bennette\"    [1, 1]   \n",
              "3                             RustyBill \"Sunday Rocker\"    [0, 0]   \n",
              "4                                         SEAN MASLANKA    [0, 0]   \n",
              "...                                                 ...       ...   \n",
              "10222                                   Lonnie M. Adams    [0, 0]   \n",
              "10223                                Michael J. Edelman    [0, 0]   \n",
              "10224                                  Michael L. Knapp    [0, 0]   \n",
              "10225                           Rick Langdon \"Scriptor\"    [0, 0]   \n",
              "10226                                   TheTerrorBeyond    [0, 0]   \n",
              "\n",
              "                                              reviewText  overall  \\\n",
              "0      Not much to write about here, but it does exac...      5.0   \n",
              "1      The product does exactly as it should and is q...      5.0   \n",
              "2      The primary job of this device is to block the...      5.0   \n",
              "3      Nice windscreen protects my MXL mic and preven...      5.0   \n",
              "4      This pop filter is great. It looks and perform...      5.0   \n",
              "...                                                  ...      ...   \n",
              "10222            Great, just as expected.  Thank to all.      5.0   \n",
              "10223  I've been thinking about trying the Nanoweb st...      5.0   \n",
              "10224  I have tried coated strings in the past ( incl...      4.0   \n",
              "10225  Well, MADE by Elixir and DEVELOPED with Taylor...      4.0   \n",
              "10226  These strings are really quite good, but I wou...      4.0   \n",
              "\n",
              "                                                 summary  unixReviewTime  \\\n",
              "0                                                   good      1393545600   \n",
              "1                                                   Jake      1363392000   \n",
              "2                                   It Does The Job Well      1377648000   \n",
              "3                          GOOD WINDSCREEN FOR THE MONEY      1392336000   \n",
              "4                  No more pops when I record my vocals.      1392940800   \n",
              "...                                                  ...             ...   \n",
              "10222                                         Five Stars      1405814400   \n",
              "10223  Long life, and for some players, a good econom...      1404259200   \n",
              "10224                                   Good for coated.      1405987200   \n",
              "10225                                        Taylor Made      1404172800   \n",
              "10226  These strings are really quite good, but I wou...      1405468800   \n",
              "\n",
              "        reviewTime  \n",
              "0      02 28, 2014  \n",
              "1      03 16, 2013  \n",
              "2      08 28, 2013  \n",
              "3      02 14, 2014  \n",
              "4      02 21, 2014  \n",
              "...            ...  \n",
              "10222  07 20, 2014  \n",
              "10223   07 2, 2014  \n",
              "10224  07 22, 2014  \n",
              "10225   07 1, 2014  \n",
              "10226  07 16, 2014  \n",
              "\n",
              "[10227 rows x 10 columns]"
            ],
            "text/html": [
              "\n",
              "  <div id=\"df-7e93fb2e-a975-4274-ad21-9e0468674aed\">\n",
              "    <div class=\"colab-df-container\">\n",
              "      <div>\n",
              "<style scoped>\n",
              "    .dataframe tbody tr th:only-of-type {\n",
              "        vertical-align: middle;\n",
              "    }\n",
              "\n",
              "    .dataframe tbody tr th {\n",
              "        vertical-align: top;\n",
              "    }\n",
              "\n",
              "    .dataframe thead th {\n",
              "        text-align: right;\n",
              "    }\n",
              "</style>\n",
              "<table border=\"1\" class=\"dataframe\">\n",
              "  <thead>\n",
              "    <tr style=\"text-align: right;\">\n",
              "      <th></th>\n",
              "      <th>index</th>\n",
              "      <th>reviewerID</th>\n",
              "      <th>asin</th>\n",
              "      <th>reviewerName</th>\n",
              "      <th>helpful</th>\n",
              "      <th>reviewText</th>\n",
              "      <th>overall</th>\n",
              "      <th>summary</th>\n",
              "      <th>unixReviewTime</th>\n",
              "      <th>reviewTime</th>\n",
              "    </tr>\n",
              "  </thead>\n",
              "  <tbody>\n",
              "    <tr>\n",
              "      <th>0</th>\n",
              "      <td>0</td>\n",
              "      <td>A2IBPI20UZIR0U</td>\n",
              "      <td>1384719342</td>\n",
              "      <td>cassandra tu \"Yeah, well, that's just like, u...</td>\n",
              "      <td>[0, 0]</td>\n",
              "      <td>Not much to write about here, but it does exac...</td>\n",
              "      <td>5.0</td>\n",
              "      <td>good</td>\n",
              "      <td>1393545600</td>\n",
              "      <td>02 28, 2014</td>\n",
              "    </tr>\n",
              "    <tr>\n",
              "      <th>1</th>\n",
              "      <td>1</td>\n",
              "      <td>A14VAT5EAX3D9S</td>\n",
              "      <td>1384719342</td>\n",
              "      <td>Jake</td>\n",
              "      <td>[13, 14]</td>\n",
              "      <td>The product does exactly as it should and is q...</td>\n",
              "      <td>5.0</td>\n",
              "      <td>Jake</td>\n",
              "      <td>1363392000</td>\n",
              "      <td>03 16, 2013</td>\n",
              "    </tr>\n",
              "    <tr>\n",
              "      <th>2</th>\n",
              "      <td>2</td>\n",
              "      <td>A195EZSQDW3E21</td>\n",
              "      <td>1384719342</td>\n",
              "      <td>Rick Bennette \"Rick Bennette\"</td>\n",
              "      <td>[1, 1]</td>\n",
              "      <td>The primary job of this device is to block the...</td>\n",
              "      <td>5.0</td>\n",
              "      <td>It Does The Job Well</td>\n",
              "      <td>1377648000</td>\n",
              "      <td>08 28, 2013</td>\n",
              "    </tr>\n",
              "    <tr>\n",
              "      <th>3</th>\n",
              "      <td>3</td>\n",
              "      <td>A2C00NNG1ZQQG2</td>\n",
              "      <td>1384719342</td>\n",
              "      <td>RustyBill \"Sunday Rocker\"</td>\n",
              "      <td>[0, 0]</td>\n",
              "      <td>Nice windscreen protects my MXL mic and preven...</td>\n",
              "      <td>5.0</td>\n",
              "      <td>GOOD WINDSCREEN FOR THE MONEY</td>\n",
              "      <td>1392336000</td>\n",
              "      <td>02 14, 2014</td>\n",
              "    </tr>\n",
              "    <tr>\n",
              "      <th>4</th>\n",
              "      <td>4</td>\n",
              "      <td>A94QU4C90B1AX</td>\n",
              "      <td>1384719342</td>\n",
              "      <td>SEAN MASLANKA</td>\n",
              "      <td>[0, 0]</td>\n",
              "      <td>This pop filter is great. It looks and perform...</td>\n",
              "      <td>5.0</td>\n",
              "      <td>No more pops when I record my vocals.</td>\n",
              "      <td>1392940800</td>\n",
              "      <td>02 21, 2014</td>\n",
              "    </tr>\n",
              "    <tr>\n",
              "      <th>...</th>\n",
              "      <td>...</td>\n",
              "      <td>...</td>\n",
              "      <td>...</td>\n",
              "      <td>...</td>\n",
              "      <td>...</td>\n",
              "      <td>...</td>\n",
              "      <td>...</td>\n",
              "      <td>...</td>\n",
              "      <td>...</td>\n",
              "      <td>...</td>\n",
              "    </tr>\n",
              "    <tr>\n",
              "      <th>10222</th>\n",
              "      <td>10256</td>\n",
              "      <td>A14B2YH83ZXMPP</td>\n",
              "      <td>B00JBIVXGC</td>\n",
              "      <td>Lonnie M. Adams</td>\n",
              "      <td>[0, 0]</td>\n",
              "      <td>Great, just as expected.  Thank to all.</td>\n",
              "      <td>5.0</td>\n",
              "      <td>Five Stars</td>\n",
              "      <td>1405814400</td>\n",
              "      <td>07 20, 2014</td>\n",
              "    </tr>\n",
              "    <tr>\n",
              "      <th>10223</th>\n",
              "      <td>10257</td>\n",
              "      <td>A1RPTVW5VEOSI</td>\n",
              "      <td>B00JBIVXGC</td>\n",
              "      <td>Michael J. Edelman</td>\n",
              "      <td>[0, 0]</td>\n",
              "      <td>I've been thinking about trying the Nanoweb st...</td>\n",
              "      <td>5.0</td>\n",
              "      <td>Long life, and for some players, a good econom...</td>\n",
              "      <td>1404259200</td>\n",
              "      <td>07 2, 2014</td>\n",
              "    </tr>\n",
              "    <tr>\n",
              "      <th>10224</th>\n",
              "      <td>10258</td>\n",
              "      <td>AWCJ12KBO5VII</td>\n",
              "      <td>B00JBIVXGC</td>\n",
              "      <td>Michael L. Knapp</td>\n",
              "      <td>[0, 0]</td>\n",
              "      <td>I have tried coated strings in the past ( incl...</td>\n",
              "      <td>4.0</td>\n",
              "      <td>Good for coated.</td>\n",
              "      <td>1405987200</td>\n",
              "      <td>07 22, 2014</td>\n",
              "    </tr>\n",
              "    <tr>\n",
              "      <th>10225</th>\n",
              "      <td>10259</td>\n",
              "      <td>A2Z7S8B5U4PAKJ</td>\n",
              "      <td>B00JBIVXGC</td>\n",
              "      <td>Rick Langdon \"Scriptor\"</td>\n",
              "      <td>[0, 0]</td>\n",
              "      <td>Well, MADE by Elixir and DEVELOPED with Taylor...</td>\n",
              "      <td>4.0</td>\n",
              "      <td>Taylor Made</td>\n",
              "      <td>1404172800</td>\n",
              "      <td>07 1, 2014</td>\n",
              "    </tr>\n",
              "    <tr>\n",
              "      <th>10226</th>\n",
              "      <td>10260</td>\n",
              "      <td>A2WA8TDCTGUADI</td>\n",
              "      <td>B00JBIVXGC</td>\n",
              "      <td>TheTerrorBeyond</td>\n",
              "      <td>[0, 0]</td>\n",
              "      <td>These strings are really quite good, but I wou...</td>\n",
              "      <td>4.0</td>\n",
              "      <td>These strings are really quite good, but I wou...</td>\n",
              "      <td>1405468800</td>\n",
              "      <td>07 16, 2014</td>\n",
              "    </tr>\n",
              "  </tbody>\n",
              "</table>\n",
              "<p>10227 rows × 10 columns</p>\n",
              "</div>\n",
              "      <button class=\"colab-df-convert\" onclick=\"convertToInteractive('df-7e93fb2e-a975-4274-ad21-9e0468674aed')\"\n",
              "              title=\"Convert this dataframe to an interactive table.\"\n",
              "              style=\"display:none;\">\n",
              "        \n",
              "  <svg xmlns=\"http://www.w3.org/2000/svg\" height=\"24px\"viewBox=\"0 0 24 24\"\n",
              "       width=\"24px\">\n",
              "    <path d=\"M0 0h24v24H0V0z\" fill=\"none\"/>\n",
              "    <path d=\"M18.56 5.44l.94 2.06.94-2.06 2.06-.94-2.06-.94-.94-2.06-.94 2.06-2.06.94zm-11 1L8.5 8.5l.94-2.06 2.06-.94-2.06-.94L8.5 2.5l-.94 2.06-2.06.94zm10 10l.94 2.06.94-2.06 2.06-.94-2.06-.94-.94-2.06-.94 2.06-2.06.94z\"/><path d=\"M17.41 7.96l-1.37-1.37c-.4-.4-.92-.59-1.43-.59-.52 0-1.04.2-1.43.59L10.3 9.45l-7.72 7.72c-.78.78-.78 2.05 0 2.83L4 21.41c.39.39.9.59 1.41.59.51 0 1.02-.2 1.41-.59l7.78-7.78 2.81-2.81c.8-.78.8-2.07 0-2.86zM5.41 20L4 18.59l7.72-7.72 1.47 1.35L5.41 20z\"/>\n",
              "  </svg>\n",
              "      </button>\n",
              "      \n",
              "  <style>\n",
              "    .colab-df-container {\n",
              "      display:flex;\n",
              "      flex-wrap:wrap;\n",
              "      gap: 12px;\n",
              "    }\n",
              "\n",
              "    .colab-df-convert {\n",
              "      background-color: #E8F0FE;\n",
              "      border: none;\n",
              "      border-radius: 50%;\n",
              "      cursor: pointer;\n",
              "      display: none;\n",
              "      fill: #1967D2;\n",
              "      height: 32px;\n",
              "      padding: 0 0 0 0;\n",
              "      width: 32px;\n",
              "    }\n",
              "\n",
              "    .colab-df-convert:hover {\n",
              "      background-color: #E2EBFA;\n",
              "      box-shadow: 0px 1px 2px rgba(60, 64, 67, 0.3), 0px 1px 3px 1px rgba(60, 64, 67, 0.15);\n",
              "      fill: #174EA6;\n",
              "    }\n",
              "\n",
              "    [theme=dark] .colab-df-convert {\n",
              "      background-color: #3B4455;\n",
              "      fill: #D2E3FC;\n",
              "    }\n",
              "\n",
              "    [theme=dark] .colab-df-convert:hover {\n",
              "      background-color: #434B5C;\n",
              "      box-shadow: 0px 1px 3px 1px rgba(0, 0, 0, 0.15);\n",
              "      filter: drop-shadow(0px 1px 2px rgba(0, 0, 0, 0.3));\n",
              "      fill: #FFFFFF;\n",
              "    }\n",
              "  </style>\n",
              "\n",
              "      <script>\n",
              "        const buttonEl =\n",
              "          document.querySelector('#df-7e93fb2e-a975-4274-ad21-9e0468674aed button.colab-df-convert');\n",
              "        buttonEl.style.display =\n",
              "          google.colab.kernel.accessAllowed ? 'block' : 'none';\n",
              "\n",
              "        async function convertToInteractive(key) {\n",
              "          const element = document.querySelector('#df-7e93fb2e-a975-4274-ad21-9e0468674aed');\n",
              "          const dataTable =\n",
              "            await google.colab.kernel.invokeFunction('convertToInteractive',\n",
              "                                                     [key], {});\n",
              "          if (!dataTable) return;\n",
              "\n",
              "          const docLinkHtml = 'Like what you see? Visit the ' +\n",
              "            '<a target=\"_blank\" href=https://colab.research.google.com/notebooks/data_table.ipynb>data table notebook</a>'\n",
              "            + ' to learn more about interactive tables.';\n",
              "          element.innerHTML = '';\n",
              "          dataTable['output_type'] = 'display_data';\n",
              "          await google.colab.output.renderOutput(dataTable, element);\n",
              "          const docLink = document.createElement('div');\n",
              "          docLink.innerHTML = docLinkHtml;\n",
              "          element.appendChild(docLink);\n",
              "        }\n",
              "      </script>\n",
              "    </div>\n",
              "  </div>\n",
              "  "
            ]
          },
          "metadata": {},
          "execution_count": 3
        }
      ]
    },
    {
      "cell_type": "markdown",
      "source": [
        "###***Pré Processamento***"
      ],
      "metadata": {
        "id": "NRhRvvjJDOWw"
      }
    },
    {
      "cell_type": "code",
      "source": [
        "#pré processamento(lower casing, remover pontuações,remoção de stopwords,lemmatize):\n",
        "def preproc(text,verbose=0,juntar_frase=0):\n",
        "  if verbose==1:\n",
        "    print('frase original: '+ text)\n",
        "  textproc = ''\n",
        "  text=text.lower()                       #lowercasing\n",
        "\n",
        "  nlp=spacy.load('en')                    #tokenização\n",
        "  textproc=nlp(text)\n",
        "\n",
        "  textproc=[text.lemma_ for text in textproc if text.is_stop is False]            #lemmatização e retirada de Stop words\n",
        "  textproc=[re.sub('[\\W]+', '', text) for text in textproc]                       # retirada de outro caracteres\n",
        "  textproc=[text for text in textproc if text!='']\n",
        "\n",
        "  if juntar_frase==1:\n",
        "    textproc=' '.join(textproc)\n",
        "\n",
        "\n",
        "\n",
        "  if verbose==1:\n",
        "    print('frase processada : ', textproc)\n",
        "  \n",
        "\n",
        "  return textproc\n"
      ],
      "metadata": {
        "id": "OuKoC7z1LSkn"
      },
      "execution_count": null,
      "outputs": []
    },
    {
      "cell_type": "code",
      "source": [
        "#teste da função preproc\n",
        "\n",
        "teste=[preproc(text,verbose=1,juntar_frase=1) for text in MI['reviewText'][0:10]]"
      ],
      "metadata": {
        "colab": {
          "base_uri": "https://localhost:8080/"
        },
        "id": "gjcIzMMnfUBM",
        "outputId": "8599d893-b853-4837-c323-8a0ba0e86dcc"
      },
      "execution_count": null,
      "outputs": [
        {
          "output_type": "stream",
          "name": "stdout",
          "text": [
            "frase original: Not much to write about here, but it does exactly what it's supposed to. filters out the pop sounds. now my recordings are much more crisp. it is one of the lowest prices pop filters on amazon so might as well buy it, they honestly work the same despite their pricing,\n",
            "frase processada :  write exactly suppose filter pop sound recording crisp low price pop filter amazon buy honestly work despite pricing\n",
            "frase original: The product does exactly as it should and is quite affordable.I did not realized it was double screened until it arrived, so it was even better than I had expected.As an added bonus, one of the screens carries a small hint of the smell of an old grape candy I used to buy, so for reminiscent's sake, I cannot stop putting the pop filter next to my nose and smelling it after recording. :DIf you needed a pop filter, this will work just as well as the expensive ones, and it may even come with a pleasing aroma like mine did!Buy this product! :]\n",
            "frase processada :  product exactly affordablei realize double screened arrive well expectedas add bonus screen carry small hint smell old grape candy buy reminiscent sake stop put pop filter nose smell record dif need pop filter work expensive one come pleasing aroma like didbuy product\n",
            "frase original: The primary job of this device is to block the breath that would otherwise produce a popping sound, while allowing your voice to pass through with no noticeable reduction of volume or high frequencies. The double cloth filter blocks the pops and lets the voice through with no coloration. The metal clamp mount attaches to the mike stand secure enough to keep it attached. The goose neck needs a little coaxing to stay where you put it.\n",
            "frase processada :  primary job device block breath produce popping sound allow voice pass noticeable reduction volume high frequency double cloth filter block pop let voice coloration metal clamp mount attach mike stand secure attach goose neck need little coax stay\n",
            "frase original: Nice windscreen protects my MXL mic and prevents pops. Only thing is that the gooseneck is only marginally able to hold the screen in position and requires careful positioning of the clamp to avoid sagging.\n",
            "frase processada :  nice windscreen protect mxl mic prevent pop thing gooseneck marginally able hold screen position require careful positioning clamp avoid sag\n",
            "frase original: This pop filter is great. It looks and performs like a studio filter. If you're recording vocals this will eliminate the pops that gets recorded when you sing.\n",
            "frase processada :  pop filter great look perform like studio filter record vocal eliminate pop get record sing\n",
            "frase original: So good that I bought another one.  Love the heavy cord and gold connectors.  Bass sounds great.  I just learned last night how to coil them up.  I guess I should read instructions more carefully.  But no harm done, still works great!\n",
            "frase processada :  good buy love heavy cord gold connector bass sound great learn night coil guess read instruction carefully harm work great\n",
            "frase original: I have used monster cables for years, and with good reason. The lifetime warranty is worth the price alone. Simple fact: cables break, but getting to replace them at no cost is where it's at.\n",
            "frase processada :  monster cable year good reason lifetime warranty worth price simple fact cable break get replace cost\n",
            "frase original: I now use this cable to run from the output of my pedal chain to the input of my Fender Amp. After I bought Monster Cable to hook up my pedal board I thought I would try another one and update my guitar. I had been using a high end Planet Waves cable that I bought in the 1980's... Once I found out the input jacks on the new Monster cable didn't fit into the Fender Strat jack I was a little disappointed... I didn't return it and as stated I use it for the output on the pedal board. Save your money... I went back to my Planet Waves Cable...I payed $30.00 back in the eighties for the Planet Waves which now comes in at around $50.00. What I'm getting at is you get what you pay for. I thought Waves was a lot of money back in the day...but I haven't bought a guitar cable since this one...20 plus years and still working...Planet Waves wins.\n",
            "frase processada :  use cable run output pedal chain input fender amp buy monster cable hook pedal board think try update guitar high end planet wave cable buy 1980 find input jack new monster cable fit fender strat jack little disappointed return state use output pedal board save money go planet wave cable pay 3000 eighty planet wave come 5000 get pay think wave lot money day buy guitar cable 20 plus year work planet wave win\n",
            "frase original: Perfect for my Epiphone Sheraton II.  Monster cables are well constructed.  I have several and never had any problems with any of them over the years.  Got this one because I wanted the 90 degree plug.\n",
            "frase processada :  perfect epiphone sheraton ii monster cable construct problem year get want 90 degree plug\n",
            "frase original: Monster makes the best cables and a lifetime warranty doesnt hurt either. This isnt their top of the line series but it works great with my bass guitar rig and has for some time. You cant go wrong with Monster Cables.\n",
            "frase processada :  monster make good cable lifetime warranty not hurt not line series work great bass guitar rig time not wrong monster cable\n"
          ]
        }
      ]
    },
    {
      "cell_type": "code",
      "source": [
        "MI_preproc=[preproc(text,juntar_frase=1) for text in MI['reviewText']]\n",
        "\n"
      ],
      "metadata": {
        "id": "uSkBqgalUjr-"
      },
      "execution_count": null,
      "outputs": []
    },
    {
      "cell_type": "markdown",
      "source": [
        "##***BOW e TFIDF***"
      ],
      "metadata": {
        "id": "qUyE71YTEAkZ"
      }
    },
    {
      "cell_type": "code",
      "source": [
        "#teste BOW\n",
        "vectorizer = CountVectorizer()\n",
        "BOW = vectorizer.fit_transform(teste)\n",
        "print(BOW.toarray())\n",
        "print(vectorizer.vocabulary_)\n",
        "print(vectorizer.get_feature_names_out())"
      ],
      "metadata": {
        "colab": {
          "base_uri": "https://localhost:8080/"
        },
        "id": "Oz37Oae774iu",
        "outputId": "c074bdab-3b28-4cb7-d1dc-e95373e30c52"
      },
      "execution_count": null,
      "outputs": [
        {
          "output_type": "stream",
          "name": "stdout",
          "text": [
            "[[0 0 0 ... 1 0 0]\n",
            " [0 0 0 ... 0 0 0]\n",
            " [0 0 0 ... 0 0 0]\n",
            " ...\n",
            " [1 1 1 ... 0 0 1]\n",
            " [0 0 0 ... 0 0 1]\n",
            " [0 0 0 ... 0 1 0]]\n",
            "{'write': 184, 'exactly': 51, 'suppose': 166, 'filter': 56, 'pop': 122, 'sound': 159, 'recording': 139, 'crisp': 38, 'low': 92, 'price': 127, 'amazon': 9, 'buy': 21, 'honestly': 75, 'work': 182, 'despite': 41, 'pricing': 128, 'product': 132, 'affordablei': 7, 'realize': 136, 'double': 46, 'screened': 151, 'arrive': 12, 'well': 179, 'expectedas': 52, 'add': 6, 'bonus': 18, 'screen': 150, 'carry': 26, 'small': 157, 'hint': 73, 'smell': 158, 'old': 110, 'grape': 66, 'candy': 23, 'reminiscent': 141, 'sake': 148, 'stop': 163, 'put': 134, 'nose': 107, 'record': 138, 'dif': 44, 'need': 103, 'expensive': 53, 'one': 111, 'come': 33, 'pleasing': 119, 'aroma': 11, 'like': 86, 'didbuy': 43, 'primary': 129, 'job': 82, 'device': 42, 'block': 16, 'breath': 20, 'produce': 131, 'popping': 123, 'allow': 8, 'voice': 174, 'pass': 113, 'noticeable': 109, 'reduction': 140, 'volume': 175, 'high': 72, 'frequency': 59, 'cloth': 29, 'let': 84, 'coloration': 32, 'metal': 95, 'clamp': 28, 'mount': 100, 'attach': 13, 'mike': 97, 'stand': 160, 'secure': 152, 'goose': 64, 'neck': 102, 'little': 88, 'coax': 30, 'stay': 162, 'nice': 105, 'windscreen': 181, 'protect': 133, 'mxl': 101, 'mic': 96, 'prevent': 126, 'thing': 167, 'gooseneck': 65, 'marginally': 94, 'able': 5, 'hold': 74, 'position': 124, 'require': 143, 'careful': 24, 'positioning': 125, 'avoid': 14, 'sag': 147, 'great': 67, 'look': 89, 'perform': 117, 'studio': 165, 'vocal': 173, 'eliminate': 48, 'get': 60, 'sing': 156, 'good': 63, 'love': 91, 'heavy': 71, 'cord': 36, 'gold': 62, 'connector': 34, 'bass': 15, 'learn': 83, 'night': 106, 'coil': 31, 'guess': 68, 'read': 135, 'instruction': 80, 'carefully': 25, 'harm': 70, 'monster': 99, 'cable': 22, 'year': 186, 'reason': 137, 'lifetime': 85, 'warranty': 177, 'worth': 183, 'simple': 155, 'fact': 54, 'break': 19, 'replace': 142, 'cost': 37, 'use': 172, 'run': 146, 'output': 112, 'pedal': 115, 'chain': 27, 'input': 79, 'fender': 55, 'amp': 10, 'hook': 76, 'board': 17, 'think': 168, 'try': 170, 'update': 171, 'guitar': 69, 'end': 49, 'planet': 118, 'wave': 178, '1980': 0, 'find': 57, 'jack': 81, 'new': 104, 'fit': 58, 'strat': 164, 'disappointed': 45, 'return': 144, 'state': 161, 'save': 149, 'money': 98, 'go': 61, 'pay': 114, '3000': 2, 'eighty': 47, '5000': 3, 'lot': 90, 'day': 39, '20': 1, 'plus': 121, 'win': 180, 'perfect': 116, 'epiphone': 50, 'sheraton': 154, 'ii': 78, 'construct': 35, 'problem': 130, 'want': 176, '90': 4, 'degree': 40, 'plug': 120, 'make': 93, 'not': 108, 'hurt': 77, 'line': 87, 'series': 153, 'rig': 145, 'time': 169, 'wrong': 185}\n",
            "['1980' '20' '3000' '5000' '90' 'able' 'add' 'affordablei' 'allow'\n",
            " 'amazon' 'amp' 'aroma' 'arrive' 'attach' 'avoid' 'bass' 'block' 'board'\n",
            " 'bonus' 'break' 'breath' 'buy' 'cable' 'candy' 'careful' 'carefully'\n",
            " 'carry' 'chain' 'clamp' 'cloth' 'coax' 'coil' 'coloration' 'come'\n",
            " 'connector' 'construct' 'cord' 'cost' 'crisp' 'day' 'degree' 'despite'\n",
            " 'device' 'didbuy' 'dif' 'disappointed' 'double' 'eighty' 'eliminate'\n",
            " 'end' 'epiphone' 'exactly' 'expectedas' 'expensive' 'fact' 'fender'\n",
            " 'filter' 'find' 'fit' 'frequency' 'get' 'go' 'gold' 'good' 'goose'\n",
            " 'gooseneck' 'grape' 'great' 'guess' 'guitar' 'harm' 'heavy' 'high' 'hint'\n",
            " 'hold' 'honestly' 'hook' 'hurt' 'ii' 'input' 'instruction' 'jack' 'job'\n",
            " 'learn' 'let' 'lifetime' 'like' 'line' 'little' 'look' 'lot' 'love' 'low'\n",
            " 'make' 'marginally' 'metal' 'mic' 'mike' 'money' 'monster' 'mount' 'mxl'\n",
            " 'neck' 'need' 'new' 'nice' 'night' 'nose' 'not' 'noticeable' 'old' 'one'\n",
            " 'output' 'pass' 'pay' 'pedal' 'perfect' 'perform' 'planet' 'pleasing'\n",
            " 'plug' 'plus' 'pop' 'popping' 'position' 'positioning' 'prevent' 'price'\n",
            " 'pricing' 'primary' 'problem' 'produce' 'product' 'protect' 'put' 'read'\n",
            " 'realize' 'reason' 'record' 'recording' 'reduction' 'reminiscent'\n",
            " 'replace' 'require' 'return' 'rig' 'run' 'sag' 'sake' 'save' 'screen'\n",
            " 'screened' 'secure' 'series' 'sheraton' 'simple' 'sing' 'small' 'smell'\n",
            " 'sound' 'stand' 'state' 'stay' 'stop' 'strat' 'studio' 'suppose' 'thing'\n",
            " 'think' 'time' 'try' 'update' 'use' 'vocal' 'voice' 'volume' 'want'\n",
            " 'warranty' 'wave' 'well' 'win' 'windscreen' 'work' 'worth' 'write'\n",
            " 'wrong' 'year']\n"
          ]
        }
      ]
    },
    {
      "cell_type": "code",
      "source": [
        "# teste TFIFD\n",
        "tfIdfVectorizer=TfidfVectorizer(use_idf=True)\n",
        "tfIdf = tfIdfVectorizer.fit_transform(teste)\n",
        "\n",
        "\n",
        "df_tfifd = pd.DataFrame(tfIdf[0].T.todense(), index=tfIdfVectorizer.get_feature_names(), columns=[\"TF-IDF\"])\n",
        "df_tfifd = df_tfifd.sort_values('TF-IDF', ascending=False)\n",
        "print (df_tfifd.head(25))"
      ],
      "metadata": {
        "colab": {
          "base_uri": "https://localhost:8080/"
        },
        "outputId": "68c46bcc-c2db-4f26-f8f6-2cd734024fd2",
        "id": "K8SewiZqAl1h"
      },
      "execution_count": null,
      "outputs": [
        {
          "output_type": "stream",
          "name": "stdout",
          "text": [
            "               TF-IDF\n",
            "filter       0.342054\n",
            "pop          0.307184\n",
            "honestly     0.258650\n",
            "amazon       0.258650\n",
            "pricing      0.258650\n",
            "despite      0.258650\n",
            "suppose      0.258650\n",
            "recording    0.258650\n",
            "crisp        0.258650\n",
            "low          0.258650\n",
            "write        0.258650\n",
            "price        0.219876\n",
            "exactly      0.219876\n",
            "sound        0.192366\n",
            "buy          0.171027\n",
            "work         0.153592\n",
            "popping      0.000000\n",
            "position     0.000000\n",
            "positioning  0.000000\n",
            "prevent      0.000000\n",
            "1980         0.000000\n",
            "primary      0.000000\n",
            "plus         0.000000\n",
            "produce      0.000000\n",
            "product      0.000000\n"
          ]
        },
        {
          "output_type": "stream",
          "name": "stderr",
          "text": [
            "/usr/local/lib/python3.7/dist-packages/sklearn/utils/deprecation.py:87: FutureWarning: Function get_feature_names is deprecated; get_feature_names is deprecated in 1.0 and will be removed in 1.2. Please use get_feature_names_out instead.\n",
            "  warnings.warn(msg, category=FutureWarning)\n"
          ]
        }
      ]
    },
    {
      "cell_type": "code",
      "source": [
        "x=MI_preproc\n",
        "y=np.array(MI['overall'])\n",
        "X_train, X_test, y_train, y_test = train_test_split(x, y, test_size=0.2, random_state=7)"
      ],
      "metadata": {
        "id": "Kw_-1Vs43sJu"
      },
      "execution_count": null,
      "outputs": []
    },
    {
      "cell_type": "code",
      "source": [
        ""
      ],
      "metadata": {
        "id": "_H0cwlyt38ci"
      },
      "execution_count": null,
      "outputs": []
    },
    {
      "cell_type": "code",
      "source": [
        "#BOW\n",
        "vectorizer = CountVectorizer()\n",
        "x_train_BOW= vectorizer.fit_transform(X_train)\n",
        "x_test_BOW= vectorizer.transform(X_test)\n",
        "\n"
      ],
      "metadata": {
        "id": "brn_7xPufVow"
      },
      "execution_count": null,
      "outputs": []
    },
    {
      "cell_type": "code",
      "source": [
        "#TFIFD\n",
        "tfIdfVectorizer=TfidfVectorizer(use_idf=True)\n",
        "\n",
        "x_train_tfIdf = tfIdfVectorizer.fit_transform(X_train)\n",
        "\n",
        "x_test_tfIdf = tfIdfVectorizer.transform(X_test)\n",
        "\n",
        "\n"
      ],
      "metadata": {
        "id": "Kzd76RNfgvCC"
      },
      "execution_count": null,
      "outputs": []
    },
    {
      "cell_type": "markdown",
      "source": [
        "##***Métodos clássicos de Machine Learning***"
      ],
      "metadata": {
        "id": "_G24tkax0J6m"
      }
    },
    {
      "cell_type": "markdown",
      "source": [
        "###**Naive Bayes**"
      ],
      "metadata": {
        "id": "AZZE4KqA0tr4"
      }
    },
    {
      "cell_type": "markdown",
      "source": [
        "\n",
        "\n",
        "---\n",
        "\n",
        "\n",
        "O classificador Naive Bayes é um algoritmo que se baseia nas descobertas de Thomas Bayes para realizar predições em aprendizagem de máquina. O termo “naive” (ingênuo) diz respeito à forma como o algoritmo analisa as características de uma base de dados: ele assume que as features são independentes entre si. \n",
        "\n",
        "\n",
        "---\n",
        "para calcular a predição, o algoritmo define, primeiramente, uma tabela de probabilidades, em que consta a frequência dos preditores com relação às variáveis de saída. Então, o cálculo final leva em conta a probabilidade maior para oferecer uma solução.\n",
        "\n",
        "\n",
        "---\n",
        "\n",
        "Duas características importantes do Naive Bayes: seu desempenho também é consideravelmente bom com classes múltiplas e ele funciona melhor com features categóricos (palavras) do que com numéricos.\n",
        "\n",
        "---\n",
        "\n"
      ],
      "metadata": {
        "id": "JK6-aa1va6Su"
      }
    },
    {
      "cell_type": "code",
      "source": [
        "#Criando o modelo de Naive Bayes\n",
        "\n",
        "from sklearn.naive_bayes import MultinomialNB\n",
        "clf = MultinomialNB().fit(x_train_tfIdf, y_train)"
      ],
      "metadata": {
        "id": "b3Ea_HwT2Pg_"
      },
      "execution_count": null,
      "outputs": []
    },
    {
      "cell_type": "code",
      "source": [
        "predicted = clf.predict(x_test_tfIdf)\n",
        "\n",
        "print(classification_report(y_test, predicted))"
      ],
      "metadata": {
        "colab": {
          "base_uri": "https://localhost:8080/"
        },
        "id": "S4dfCVet7EKr",
        "outputId": "7df8d703-1e2c-4c5b-9830-de849987c898"
      },
      "execution_count": null,
      "outputs": [
        {
          "output_type": "stream",
          "name": "stdout",
          "text": [
            "              precision    recall  f1-score   support\n",
            "\n",
            "         1.0       0.00      0.00      0.00        47\n",
            "         2.0       0.00      0.00      0.00        44\n",
            "         3.0       0.00      0.00      0.00       151\n",
            "         4.0       0.00      0.00      0.00       389\n",
            "         5.0       0.69      1.00      0.82      1415\n",
            "\n",
            "    accuracy                           0.69      2046\n",
            "   macro avg       0.14      0.20      0.16      2046\n",
            "weighted avg       0.48      0.69      0.57      2046\n",
            "\n"
          ]
        },
        {
          "output_type": "stream",
          "name": "stderr",
          "text": [
            "/usr/local/lib/python3.7/dist-packages/sklearn/metrics/_classification.py:1318: UndefinedMetricWarning: Precision and F-score are ill-defined and being set to 0.0 in labels with no predicted samples. Use `zero_division` parameter to control this behavior.\n",
            "  _warn_prf(average, modifier, msg_start, len(result))\n",
            "/usr/local/lib/python3.7/dist-packages/sklearn/metrics/_classification.py:1318: UndefinedMetricWarning: Precision and F-score are ill-defined and being set to 0.0 in labels with no predicted samples. Use `zero_division` parameter to control this behavior.\n",
            "  _warn_prf(average, modifier, msg_start, len(result))\n",
            "/usr/local/lib/python3.7/dist-packages/sklearn/metrics/_classification.py:1318: UndefinedMetricWarning: Precision and F-score are ill-defined and being set to 0.0 in labels with no predicted samples. Use `zero_division` parameter to control this behavior.\n",
            "  _warn_prf(average, modifier, msg_start, len(result))\n"
          ]
        }
      ]
    },
    {
      "cell_type": "markdown",
      "source": [
        "###**SVM**"
      ],
      "metadata": {
        "id": "iQNbRVIU1E7v"
      }
    },
    {
      "cell_type": "markdown",
      "source": [
        "\n",
        "\n",
        "---\n",
        "\n",
        "\n",
        "“Support Vector Machine” (SVM) é um algoritmo de aprendizado de máquina\n",
        "supervisionado que pode ser usado para desafios de classificação ou regressão.\n",
        "Seu foco maior é no treinamento e classificação de um dataset.\n",
        "\n",
        "---\n",
        "\n",
        "Nesse algoritmo, plotamos cada item de dados como um ponto no espaço\n",
        "n-dimensional (onde n é o número de recursos que você tem), com o valor de cada\n",
        "recurso sendo o valor de uma determinada coordenada. Então, nós executamos a\n",
        "classificação encontrando o hiperplano que melhor diferencia as duas classes.\n",
        "\n",
        "---\n",
        "\n",
        "![Capturar.PNG](data:image/png;base64,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)"
      ],
      "metadata": {
        "id": "eeCL2HPAba5F"
      }
    },
    {
      "cell_type": "code",
      "source": [
        "#Criando o modelo de SVM\n",
        "\n",
        "SVM = svm.SVC(C=1.0, kernel='linear', degree=3, gamma='auto')\n",
        "SVM.fit(x_train_tfIdf,y_train)\n"
      ],
      "metadata": {
        "colab": {
          "base_uri": "https://localhost:8080/"
        },
        "id": "PRKTmMBh6nVb",
        "outputId": "df14ca0c-f650-4628-d92a-dc47de882d02"
      },
      "execution_count": null,
      "outputs": [
        {
          "output_type": "execute_result",
          "data": {
            "text/plain": [
              "SVC(gamma='auto', kernel='linear')"
            ]
          },
          "metadata": {},
          "execution_count": 13
        }
      ]
    },
    {
      "cell_type": "code",
      "source": [
        "predicted = SVM.predict(x_test_tfIdf)\n",
        "\n",
        "print(classification_report(y_test, predicted))"
      ],
      "metadata": {
        "colab": {
          "base_uri": "https://localhost:8080/"
        },
        "id": "Jy6xCL_J8BMR",
        "outputId": "9f16b2b6-b9fc-4621-d6c9-3d687b8d9bc8"
      },
      "execution_count": null,
      "outputs": [
        {
          "output_type": "stream",
          "name": "stdout",
          "text": [
            "              precision    recall  f1-score   support\n",
            "\n",
            "         1.0       0.00      0.00      0.00        47\n",
            "         2.0       0.00      0.00      0.00        44\n",
            "         3.0       0.53      0.05      0.10       151\n",
            "         4.0       0.34      0.06      0.10       389\n",
            "         5.0       0.71      0.98      0.82      1415\n",
            "\n",
            "    accuracy                           0.69      2046\n",
            "   macro avg       0.32      0.22      0.20      2046\n",
            "weighted avg       0.59      0.69      0.60      2046\n",
            "\n"
          ]
        },
        {
          "output_type": "stream",
          "name": "stderr",
          "text": [
            "/usr/local/lib/python3.7/dist-packages/sklearn/metrics/_classification.py:1318: UndefinedMetricWarning: Precision and F-score are ill-defined and being set to 0.0 in labels with no predicted samples. Use `zero_division` parameter to control this behavior.\n",
            "  _warn_prf(average, modifier, msg_start, len(result))\n",
            "/usr/local/lib/python3.7/dist-packages/sklearn/metrics/_classification.py:1318: UndefinedMetricWarning: Precision and F-score are ill-defined and being set to 0.0 in labels with no predicted samples. Use `zero_division` parameter to control this behavior.\n",
            "  _warn_prf(average, modifier, msg_start, len(result))\n",
            "/usr/local/lib/python3.7/dist-packages/sklearn/metrics/_classification.py:1318: UndefinedMetricWarning: Precision and F-score are ill-defined and being set to 0.0 in labels with no predicted samples. Use `zero_division` parameter to control this behavior.\n",
            "  _warn_prf(average, modifier, msg_start, len(result))\n"
          ]
        }
      ]
    },
    {
      "cell_type": "markdown",
      "source": [
        "##**RNN**"
      ],
      "metadata": {
        "id": "lulZpO5FQuF5"
      }
    },
    {
      "cell_type": "markdown",
      "source": [
        "\n",
        "\n",
        "---\n",
        "\n",
        "\n",
        "Uma rede neural recorrente (RNN) é uma classe de redes neurais que inclui conexões ponderadas dentro de uma camada (em comparação com as redes de feed-forward tradicionais, onde conecta alimentação apenas para camadas subsequentes). Como as RNNs incluem loops, elas podem armazenar informações ao processar novas entradas. Essa memória os torna ideais para tarefas de processamento onde as entradas anteriores devem ser consideradas (como dados da série temporal). Por esta razão, as redes de deep learning atuais são baseadas em RNNs.\n",
        "\n",
        "---\n",
        "\n"
      ],
      "metadata": {
        "id": "uqfMY0AFcrpR"
      }
    },
    {
      "cell_type": "code",
      "source": [
        "\n",
        "max_len = 80                 #tamanho máximo para 1 entrada\n",
        "vocab_size = 1000            # tamanho do vocabulário\n",
        "\n",
        "encoder = OneHotEncoder(sparse=False)\n",
        "y=np.array(MI['overall'])                   #transformando as \"Overalls\" com One Hot Encoding\n",
        "y=encoder.fit_transform(y.reshape(-1,1))\n",
        "\n",
        "print(y)\n",
        "\n",
        "x=MI['reviewText']\n",
        "X_train, X_test, y_train, y_test = train_test_split(x, y, test_size=0.2, shuffle=True, random_state=7)"
      ],
      "metadata": {
        "colab": {
          "base_uri": "https://localhost:8080/"
        },
        "id": "LzoO4-mjQ0hI",
        "outputId": "a192f351-8ce9-4626-bcd5-4d038389008f"
      },
      "execution_count": null,
      "outputs": [
        {
          "output_type": "stream",
          "name": "stdout",
          "text": [
            "[[0. 0. 0. 0. 1.]\n",
            " [0. 0. 0. 0. 1.]\n",
            " [0. 0. 0. 0. 1.]\n",
            " ...\n",
            " [0. 0. 0. 1. 0.]\n",
            " [0. 0. 0. 1. 0.]\n",
            " [0. 0. 0. 1. 0.]]\n"
          ]
        }
      ]
    },
    {
      "cell_type": "code",
      "source": [
        "#utilizando o Tokenizer para tratar o texto e Tokenizar o texto\n",
        "\n",
        "tokenizator=tf.keras.preprocessing.text.Tokenizer(\n",
        "num_words=vocab_size,\n",
        "filters='!\"#$%&()*+,-./:;<=>?@[\\\\]^_`{|}~\\t\\n',\n",
        "lower=True,\n",
        "char_level=False,\n",
        "oov_token='<OOV>',\n",
        ")\n",
        "\n",
        "tokenizator.fit_on_texts(X_train)\n"
      ],
      "metadata": {
        "id": "uhGy93j_SFMP"
      },
      "execution_count": null,
      "outputs": []
    },
    {
      "cell_type": "code",
      "source": [
        "\n",
        "reviews_train = tokenizator.texts_to_sequences(X_train)\n",
        "x_train = pad_sequences(reviews_train, maxlen=max_len, padding='post', truncating='post')\n",
        "\n",
        "reviews_test = tokenizator.texts_to_sequences(X_test)\n",
        "x_test = pad_sequences(reviews_test, maxlen=max_len, padding='post', truncating='post')\n",
        "\n",
        "\n",
        "x_train = np.array(x_train)\n",
        "x_test = np.array(x_test)\n",
        "y_train = np.array(y_train)\n",
        "y_test = np.array(y_test)"
      ],
      "metadata": {
        "id": "wdOtykfEUfnR"
      },
      "execution_count": null,
      "outputs": []
    },
    {
      "cell_type": "code",
      "source": [
        "#criando o modelo da RNN\n",
        "\n",
        "RNN = Sequential([\n",
        "    Embedding(vocab_size+1, 64, input_length=max_len),\n",
        "    Bidirectional(LSTM(128)),\n",
        "    Dense(128, activation='relu'),\n",
        "    Dropout(0.5),\n",
        "    Dense(5, activation='softmax')\n",
        "])\n",
        "RNN.compile(loss='categorical_crossentropy', optimizer=Adam(lr=0.01), metrics=['accuracy'])\n",
        "RNN.summary()"
      ],
      "metadata": {
        "colab": {
          "base_uri": "https://localhost:8080/"
        },
        "id": "p0NbEJzTU4b_",
        "outputId": "4954be66-5876-41ee-a186-b086eb42544a"
      },
      "execution_count": null,
      "outputs": [
        {
          "output_type": "stream",
          "name": "stdout",
          "text": [
            "Model: \"sequential\"\n",
            "_________________________________________________________________\n",
            " Layer (type)                Output Shape              Param #   \n",
            "=================================================================\n",
            " embedding (Embedding)       (None, 80, 64)            64064     \n",
            "                                                                 \n",
            " bidirectional (Bidirectiona  (None, 256)              197632    \n",
            " l)                                                              \n",
            "                                                                 \n",
            " dense (Dense)               (None, 128)               32896     \n",
            "                                                                 \n",
            " dropout (Dropout)           (None, 128)               0         \n",
            "                                                                 \n",
            " dense_1 (Dense)             (None, 5)                 645       \n",
            "                                                                 \n",
            "=================================================================\n",
            "Total params: 295,237\n",
            "Trainable params: 295,237\n",
            "Non-trainable params: 0\n",
            "_________________________________________________________________\n"
          ]
        },
        {
          "output_type": "stream",
          "name": "stderr",
          "text": [
            "/usr/local/lib/python3.7/dist-packages/keras/optimizer_v2/adam.py:105: UserWarning: The `lr` argument is deprecated, use `learning_rate` instead.\n",
            "  super(Adam, self).__init__(name, **kwargs)\n"
          ]
        }
      ]
    },
    {
      "cell_type": "code",
      "source": [
        "RNN_fit = RNN.fit(x_train, y_train, epochs=10, validation_data=(x_test, y_test), verbose=1)"
      ],
      "metadata": {
        "colab": {
          "base_uri": "https://localhost:8080/"
        },
        "id": "lrtsFNYdU_GG",
        "outputId": "0769c009-3efa-469d-aba8-0d0f8f246552"
      },
      "execution_count": null,
      "outputs": [
        {
          "output_type": "stream",
          "name": "stdout",
          "text": [
            "Epoch 1/10\n",
            "256/256 [==============================] - 49s 171ms/step - loss: 0.9940 - accuracy: 0.6670 - val_loss: 0.9096 - val_accuracy: 0.6916\n",
            "Epoch 2/10\n",
            "256/256 [==============================] - 43s 168ms/step - loss: 0.9083 - accuracy: 0.6709 - val_loss: 0.8749 - val_accuracy: 0.6916\n",
            "Epoch 3/10\n",
            "256/256 [==============================] - 42s 165ms/step - loss: 0.8575 - accuracy: 0.6720 - val_loss: 0.8868 - val_accuracy: 0.6877\n",
            "Epoch 4/10\n",
            "256/256 [==============================] - 43s 167ms/step - loss: 0.8228 - accuracy: 0.6758 - val_loss: 0.8802 - val_accuracy: 0.6901\n",
            "Epoch 5/10\n",
            "256/256 [==============================] - 43s 168ms/step - loss: 0.7935 - accuracy: 0.6915 - val_loss: 0.9251 - val_accuracy: 0.6838\n",
            "Epoch 6/10\n",
            "256/256 [==============================] - 43s 168ms/step - loss: 0.7682 - accuracy: 0.6966 - val_loss: 0.9309 - val_accuracy: 0.6852\n",
            "Epoch 7/10\n",
            "256/256 [==============================] - 48s 187ms/step - loss: 0.7436 - accuracy: 0.6975 - val_loss: 0.9285 - val_accuracy: 0.6779\n",
            "Epoch 8/10\n",
            "256/256 [==============================] - 42s 166ms/step - loss: 0.7199 - accuracy: 0.7110 - val_loss: 1.0306 - val_accuracy: 0.6716\n",
            "Epoch 9/10\n",
            "256/256 [==============================] - 43s 169ms/step - loss: 0.7132 - accuracy: 0.7170 - val_loss: 1.0070 - val_accuracy: 0.6334\n",
            "Epoch 10/10\n",
            "256/256 [==============================] - 44s 171ms/step - loss: 0.6781 - accuracy: 0.7326 - val_loss: 1.1094 - val_accuracy: 0.6530\n"
          ]
        }
      ]
    }
  ]
}
