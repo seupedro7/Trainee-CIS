{
  "nbformat": 4,
  "nbformat_minor": 0,
  "metadata": {
    "colab": {
      "name": "Trainee CIS - Parte5.ipynb",
      "provenance": [],
      "collapsed_sections": [],
      "authorship_tag": "ABX9TyNoeuZtNYZPtCN1mMi6bRfD",
      "include_colab_link": true
    },
    "kernelspec": {
      "name": "python3",
      "display_name": "Python 3"
    },
    "language_info": {
      "name": "python"
    }
  },
  "cells": [
    {
      "cell_type": "markdown",
      "metadata": {
        "id": "view-in-github",
        "colab_type": "text"
      },
      "source": [
        "<a href=\"https://colab.research.google.com/github/seupedro7/Trainee-CIS/blob/main/Trainee_CIS_Parte5.ipynb\" target=\"_parent\"><img src=\"https://colab.research.google.com/assets/colab-badge.svg\" alt=\"Open In Colab\"/></a>"
      ]
    },
    {
      "cell_type": "markdown",
      "source": [
        "##Trainee CIS - Parte 5\n",
        "Redes neurais convolucionais\n"
      ],
      "metadata": {
        "id": "mRhkrGoYt-qJ"
      }
    },
    {
      "cell_type": "code",
      "execution_count": null,
      "metadata": {
        "id": "zkzk9nK1d8OV"
      },
      "outputs": [],
      "source": [
        "import pandas as pd\n",
        "import numpy as np\n",
        "import os\n",
        "import tensorflow as tf\n",
        "import cv2\n",
        "from tensorflow import keras\n",
        "\n",
        "from  matplotlib import pyplot as plt\n",
        "import matplotlib.image as mpimg\n",
        "%matplotlib inline"
      ]
    },
    {
      "cell_type": "code",
      "source": [
        "import tensorflow as tf\n",
        "from tensorflow import keras\n",
        "from tensorflow.keras import layers"
      ],
      "metadata": {
        "id": "Wm-Rd86WeRWn"
      },
      "execution_count": null,
      "outputs": []
    },
    {
      "cell_type": "code",
      "source": [
        "from google.colab import drive\n",
        "drive.mount('/content/drive')\n",
        "import cv2\n",
        "from google.colab.patches import cv2_imshow"
      ],
      "metadata": {
        "colab": {
          "base_uri": "https://localhost:8080/"
        },
        "id": "QA0Hcmz0cwH8",
        "outputId": "4974beda-d9e2-4c2a-faa6-7a22710ae3b8"
      },
      "execution_count": null,
      "outputs": [
        {
          "output_type": "stream",
          "name": "stdout",
          "text": [
            "Drive already mounted at /content/drive; to attempt to forcibly remount, call drive.mount(\"/content/drive\", force_remount=True).\n"
          ]
        }
      ]
    },
    {
      "cell_type": "markdown",
      "source": [
        "##Importando o dataset de imagens atraves do Image data generator e flow_from_directory"
      ],
      "metadata": {
        "id": "46n0GtCquET7"
      }
    },
    {
      "cell_type": "code",
      "source": [
        "from keras.preprocessing.image import ImageDataGenerator\n",
        "\n",
        "\n",
        "train_datagen = ImageDataGenerator(\n",
        "    rescale=1./255,\n",
        "    rotation_range=20,\n",
        "    width_shift_range=0.15,\n",
        "    height_shift_range=0.15,\n",
        "    shear_range=0.15,\n",
        "    zoom_range=0.15,\n",
        "    horizontal_flip=True,\n",
        "    fill_mode='nearest')\n",
        "\n",
        "test_datagen = ImageDataGenerator(rescale=1./255)\n",
        "\n",
        "train_generator = train_datagen.flow_from_directory(\n",
        "    directory=r\"/content/drive/My Drive/animals/train\",\n",
        "    target_size=(100, 100),\n",
        "    color_mode=\"rgb\",\n",
        "    batch_size=38,\n",
        "    class_mode=\"categorical\",\n",
        "    shuffle=True,\n",
        "    seed=42\n",
        ")\n",
        "test_generator = test_datagen.flow_from_directory(\n",
        "    directory=r\"/content/drive/My Drive/animals/test\",\n",
        "    target_size=(100,100),\n",
        "    color_mode=\"rgb\",\n",
        "    batch_size=38,\n",
        "    class_mode=\"categorical\",\n",
        "    shuffle=True,\n",
        "    seed=42\n",
        ")\n",
        "\n",
        "train_generator"
      ],
      "metadata": {
        "colab": {
          "base_uri": "https://localhost:8080/"
        },
        "id": "BmGqglylGSr2",
        "outputId": "f8a7c9b4-b023-49d0-ff4c-58e8630faae7"
      },
      "execution_count": null,
      "outputs": [
        {
          "output_type": "stream",
          "name": "stdout",
          "text": [
            "Found 2400 images belonging to 3 classes.\n",
            "Found 600 images belonging to 3 classes.\n"
          ]
        },
        {
          "output_type": "execute_result",
          "data": {
            "text/plain": [
              "<keras.preprocessing.image.DirectoryIterator at 0x7fcfb2cfadd0>"
            ]
          },
          "metadata": {},
          "execution_count": 6
        }
      ]
    },
    {
      "cell_type": "markdown",
      "source": [
        "##Montando os parametros da rede neural"
      ],
      "metadata": {
        "id": "7LaZCWk2t9rh"
      }
    },
    {
      "cell_type": "code",
      "source": [
        "model = keras.Sequential([\n",
        "    keras.layers.Conv2D(32, (3, 3), activation='relu', input_shape=(100, 100, 3)),\n",
        "    keras.layers.MaxPool2D((2, 2)),\n",
        "    keras.layers.Conv2D(64, (3, 3), activation='relu'),\n",
        "    keras.layers.MaxPool2D((2, 2)),\n",
        "    keras.layers.Conv2D(128, (3, 3), activation='relu'),\n",
        "    keras.layers.MaxPool2D((2, 2)),\n",
        "    keras.layers.Flatten(),\n",
        "    keras.layers.Dense(512, activation='relu'),\n",
        "    keras.layers.Dense(3, activation='softmax')\n",
        "\n",
        "    \n",
        "])\n",
        "\n"
      ],
      "metadata": {
        "id": "ckffXuV1-Dlj"
      },
      "execution_count": null,
      "outputs": []
    },
    {
      "cell_type": "code",
      "source": [
        "model.compile(optimizer='adam', loss='categorical_crossentropy', metrics=['accuracy'])\n",
        "model.summary()"
      ],
      "metadata": {
        "colab": {
          "base_uri": "https://localhost:8080/"
        },
        "id": "_pB6qRDuEX9e",
        "outputId": "920e22f3-1bc4-45e5-b4e8-39bd947eeb05"
      },
      "execution_count": null,
      "outputs": [
        {
          "output_type": "stream",
          "name": "stdout",
          "text": [
            "Model: \"sequential\"\n",
            "_________________________________________________________________\n",
            " Layer (type)                Output Shape              Param #   \n",
            "=================================================================\n",
            " conv2d (Conv2D)             (None, 98, 98, 32)        896       \n",
            "                                                                 \n",
            " max_pooling2d (MaxPooling2D  (None, 49, 49, 32)       0         \n",
            " )                                                               \n",
            "                                                                 \n",
            " conv2d_1 (Conv2D)           (None, 47, 47, 64)        18496     \n",
            "                                                                 \n",
            " max_pooling2d_1 (MaxPooling  (None, 23, 23, 64)       0         \n",
            " 2D)                                                             \n",
            "                                                                 \n",
            " conv2d_2 (Conv2D)           (None, 21, 21, 128)       73856     \n",
            "                                                                 \n",
            " max_pooling2d_2 (MaxPooling  (None, 10, 10, 128)      0         \n",
            " 2D)                                                             \n",
            "                                                                 \n",
            " flatten (Flatten)           (None, 12800)             0         \n",
            "                                                                 \n",
            " dense (Dense)               (None, 512)               6554112   \n",
            "                                                                 \n",
            " dense_1 (Dense)             (None, 3)                 1539      \n",
            "                                                                 \n",
            "=================================================================\n",
            "Total params: 6,648,899\n",
            "Trainable params: 6,648,899\n",
            "Non-trainable params: 0\n",
            "_________________________________________________________________\n"
          ]
        }
      ]
    },
    {
      "cell_type": "markdown",
      "source": [
        "\n",
        "##Treinando a rede\n",
        "\n"
      ],
      "metadata": {
        "id": "v3TieGowuPPv"
      }
    },
    {
      "cell_type": "code",
      "source": [
        "history = model.fit(train_generator,\n",
        "                    validation_data=test_generator,\n",
        "                    epochs=20,\n",
        "                    verbose = 2)"
      ],
      "metadata": {
        "colab": {
          "base_uri": "https://localhost:8080/"
        },
        "id": "3ulW_Wp3EeM_",
        "outputId": "dd7fa13c-2029-44d6-c952-8303c23135c4"
      },
      "execution_count": null,
      "outputs": [
        {
          "output_type": "stream",
          "name": "stdout",
          "text": [
            "Epoch 1/20\n",
            "64/64 - 949s - loss: 0.9547 - accuracy: 0.4938 - val_loss: 1.0291 - val_accuracy: 0.5400 - 949s/epoch - 15s/step\n",
            "Epoch 2/20\n",
            "64/64 - 60s - loss: 0.7751 - accuracy: 0.5896 - val_loss: 0.7600 - val_accuracy: 0.6417 - 60s/epoch - 937ms/step\n",
            "Epoch 3/20\n",
            "64/64 - 60s - loss: 0.7143 - accuracy: 0.6321 - val_loss: 0.9698 - val_accuracy: 0.5550 - 60s/epoch - 937ms/step\n",
            "Epoch 4/20\n",
            "64/64 - 60s - loss: 0.7124 - accuracy: 0.6363 - val_loss: 0.6551 - val_accuracy: 0.6900 - 60s/epoch - 933ms/step\n",
            "Epoch 5/20\n",
            "64/64 - 60s - loss: 0.6720 - accuracy: 0.6521 - val_loss: 1.0090 - val_accuracy: 0.5500 - 60s/epoch - 939ms/step\n",
            "Epoch 6/20\n",
            "64/64 - 61s - loss: 0.6576 - accuracy: 0.6717 - val_loss: 0.7674 - val_accuracy: 0.6150 - 61s/epoch - 946ms/step\n",
            "Epoch 7/20\n",
            "64/64 - 61s - loss: 0.6169 - accuracy: 0.7008 - val_loss: 0.6176 - val_accuracy: 0.7067 - 61s/epoch - 946ms/step\n",
            "Epoch 8/20\n",
            "64/64 - 60s - loss: 0.6060 - accuracy: 0.7063 - val_loss: 0.6587 - val_accuracy: 0.6983 - 60s/epoch - 938ms/step\n",
            "Epoch 9/20\n",
            "64/64 - 60s - loss: 0.6261 - accuracy: 0.6846 - val_loss: 0.7116 - val_accuracy: 0.6600 - 60s/epoch - 931ms/step\n",
            "Epoch 10/20\n",
            "64/64 - 60s - loss: 0.6141 - accuracy: 0.6988 - val_loss: 0.6165 - val_accuracy: 0.7183 - 60s/epoch - 934ms/step\n",
            "Epoch 11/20\n",
            "64/64 - 60s - loss: 0.5964 - accuracy: 0.7113 - val_loss: 0.5744 - val_accuracy: 0.7267 - 60s/epoch - 939ms/step\n",
            "Epoch 12/20\n",
            "64/64 - 60s - loss: 0.5618 - accuracy: 0.7233 - val_loss: 0.5842 - val_accuracy: 0.7350 - 60s/epoch - 932ms/step\n",
            "Epoch 13/20\n",
            "64/64 - 60s - loss: 0.5647 - accuracy: 0.7254 - val_loss: 0.5314 - val_accuracy: 0.7567 - 60s/epoch - 939ms/step\n",
            "Epoch 14/20\n",
            "64/64 - 60s - loss: 0.5256 - accuracy: 0.7508 - val_loss: 0.6273 - val_accuracy: 0.7133 - 60s/epoch - 934ms/step\n",
            "Epoch 15/20\n",
            "64/64 - 60s - loss: 0.5242 - accuracy: 0.7542 - val_loss: 0.5453 - val_accuracy: 0.7583 - 60s/epoch - 940ms/step\n",
            "Epoch 16/20\n",
            "64/64 - 61s - loss: 0.5268 - accuracy: 0.7492 - val_loss: 0.5645 - val_accuracy: 0.7550 - 61s/epoch - 953ms/step\n",
            "Epoch 17/20\n",
            "64/64 - 62s - loss: 0.5216 - accuracy: 0.7433 - val_loss: 0.5772 - val_accuracy: 0.7300 - 62s/epoch - 965ms/step\n",
            "Epoch 18/20\n",
            "64/64 - 62s - loss: 0.4963 - accuracy: 0.7696 - val_loss: 0.4906 - val_accuracy: 0.7733 - 62s/epoch - 969ms/step\n",
            "Epoch 19/20\n",
            "64/64 - 61s - loss: 0.5047 - accuracy: 0.7592 - val_loss: 0.6236 - val_accuracy: 0.7400 - 61s/epoch - 953ms/step\n",
            "Epoch 20/20\n",
            "64/64 - 61s - loss: 0.4939 - accuracy: 0.7738 - val_loss: 0.4822 - val_accuracy: 0.7950 - 61s/epoch - 952ms/step\n"
          ]
        }
      ]
    },
    {
      "cell_type": "markdown",
      "source": [
        "##Plotando os resultados"
      ],
      "metadata": {
        "id": "6DQBBr4AuUzh"
      }
    },
    {
      "cell_type": "code",
      "source": [
        "\n",
        "def plot_result(history):\n",
        "    acc = history.history['accuracy']\n",
        "    val_acc = history.history['val_accuracy']\n",
        "    epochs = range(len(acc))\n",
        "\n",
        "    plt.plot(epochs, acc, 'b', label='Training accuracy')\n",
        "    plt.plot(epochs, val_acc, 'r', label='Test accuracy')\n",
        "    plt.title('Training and Test accuracy')\n",
        "    plt.legend()\n",
        "    plt.figure()\n",
        "\n",
        "    loss = history.history['loss']\n",
        "    val_loss = history.history['val_loss']\n",
        "    plt.plot(epochs, loss, 'b', label='Training Loss')\n",
        "    plt.plot(epochs, val_loss, 'r', label='Test Loss')\n",
        "    plt.title('Training and Test loss')\n",
        "    plt.legend()\n",
        "    plt.show()\n",
        "plot_result(history)"
      ],
      "metadata": {
        "id": "YfwKnWZZEinY",
        "colab": {
          "base_uri": "https://localhost:8080/",
          "height": 545
        },
        "outputId": "808d64c6-5205-4c8e-bffb-182225c5572a"
      },
      "execution_count": null,
      "outputs": [
        {
          "output_type": "display_data",
          "data": {
            "image/png": "[encoded data removed]",
            "text/plain": [
              "<Figure size 432x288 with 1 Axes>"
            ]
          },
          "metadata": {
            "needs_background": "light"
          }
        },
        {
          "output_type": "display_data",
          "data": {
            "image/png": "[encoded data removed]",
            "text/plain": [
              "<Figure size 432x288 with 1 Axes>"
            ]
          },
          "metadata": {
            "needs_background": "light"
          }
        }
      ]
    }
  ]
}